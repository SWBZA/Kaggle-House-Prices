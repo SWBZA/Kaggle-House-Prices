{
 "cells": [
  {
   "cell_type": "markdown",
   "metadata": {},
   "source": [
    "# Exploration of House Price data\n",
    ">\n",
    "> This notebook cleans data for use in the \n",
    "> other ML templates"
   ]
  },
  {
   "cell_type": "code",
   "execution_count": 1,
   "metadata": {},
   "outputs": [],
   "source": [
    "# Import libraries\n",
    "\n",
    "import matplotlib.pyplot as plt\n",
    "import numpy as np\n",
    "import pandas as pd\n",
    "import qgrid\n",
    "import seaborn as sns\n",
    "import sweetviz as sv  # Use automated EDA tool https://github.com/fbdesignpro/sweetviz\n",
    "\n",
    "#  Make sure all print() lines are printed, not just the last one\n",
    "from IPython.core.interactiveshell import InteractiveShell\n",
    "\n",
    "InteractiveShell.ast_node_interactivity = \"all\"\n",
    "\n",
    "%matplotlib inline"
   ]
  },
  {
   "cell_type": "code",
   "execution_count": 2,
   "metadata": {},
   "outputs": [
    {
     "name": "stdout",
     "output_type": "stream",
     "text": [
      "\u001b[34mData Prep\u001b[m\u001b[m\n",
      "EDA.ipynb\n",
      "Kaggle_Houseprices_train.csv\n",
      "\u001b[31mcatboost.ipynb\u001b[m\u001b[m\n",
      "cleaned_data.csv\n",
      "\u001b[34mhouse-prices-advanced-regression-techniques\u001b[m\u001b[m\n",
      "house-prices-advanced-regression-techniques.zip\n",
      "hp_support_vector_regression.ipynb\n",
      "hp_svm.csv\n",
      "hp_test.csv\n"
     ]
    }
   ],
   "source": [
    "#!ls"
   ]
  },
  {
   "cell_type": "code",
   "execution_count": 3,
   "metadata": {},
   "outputs": [],
   "source": [
    "# Import data - using the Kaggle House Price competition training set for this example\n",
    "\n",
    "data = pd.read_csv(\"Kaggle_Houseprices_train.csv\")"
   ]
  },
  {
   "cell_type": "code",
   "execution_count": 3,
   "metadata": {},
   "outputs": [
    {
     "data": {
      "application/json": {
       "cell": {
        "!": "OSMagics",
        "HTML": "Other",
        "SVG": "Other",
        "bash": "Other",
        "capture": "ExecutionMagics",
        "debug": "ExecutionMagics",
        "file": "Other",
        "html": "DisplayMagics",
        "javascript": "DisplayMagics",
        "js": "DisplayMagics",
        "latex": "DisplayMagics",
        "markdown": "DisplayMagics",
        "perl": "Other",
        "prun": "ExecutionMagics",
        "pypy": "Other",
        "python": "Other",
        "python2": "Other",
        "python3": "Other",
        "ruby": "Other",
        "script": "ScriptMagics",
        "sh": "Other",
        "svg": "DisplayMagics",
        "sx": "OSMagics",
        "system": "OSMagics",
        "time": "ExecutionMagics",
        "timeit": "ExecutionMagics",
        "writefile": "OSMagics"
       },
       "line": {
        "alias": "OSMagics",
        "alias_magic": "BasicMagics",
        "autoawait": "AsyncMagics",
        "autocall": "AutoMagics",
        "automagic": "AutoMagics",
        "autosave": "KernelMagics",
        "bookmark": "OSMagics",
        "cat": "Other",
        "cd": "OSMagics",
        "clear": "KernelMagics",
        "colors": "BasicMagics",
        "conda": "PackagingMagics",
        "config": "ConfigMagics",
        "connect_info": "KernelMagics",
        "cp": "Other",
        "debug": "ExecutionMagics",
        "dhist": "OSMagics",
        "dirs": "OSMagics",
        "doctest_mode": "BasicMagics",
        "ed": "Other",
        "edit": "KernelMagics",
        "env": "OSMagics",
        "gui": "BasicMagics",
        "hist": "Other",
        "history": "HistoryMagics",
        "killbgscripts": "ScriptMagics",
        "ldir": "Other",
        "less": "KernelMagics",
        "lf": "Other",
        "lk": "Other",
        "ll": "Other",
        "load": "CodeMagics",
        "load_ext": "ExtensionMagics",
        "loadpy": "CodeMagics",
        "logoff": "LoggingMagics",
        "logon": "LoggingMagics",
        "logstart": "LoggingMagics",
        "logstate": "LoggingMagics",
        "logstop": "LoggingMagics",
        "ls": "Other",
        "lsmagic": "BasicMagics",
        "lx": "Other",
        "macro": "ExecutionMagics",
        "magic": "BasicMagics",
        "man": "KernelMagics",
        "matplotlib": "PylabMagics",
        "mkdir": "Other",
        "more": "KernelMagics",
        "mv": "Other",
        "notebook": "BasicMagics",
        "page": "BasicMagics",
        "pastebin": "CodeMagics",
        "pdb": "ExecutionMagics",
        "pdef": "NamespaceMagics",
        "pdoc": "NamespaceMagics",
        "pfile": "NamespaceMagics",
        "pinfo": "NamespaceMagics",
        "pinfo2": "NamespaceMagics",
        "pip": "PackagingMagics",
        "popd": "OSMagics",
        "pprint": "BasicMagics",
        "precision": "BasicMagics",
        "prun": "ExecutionMagics",
        "psearch": "NamespaceMagics",
        "psource": "NamespaceMagics",
        "pushd": "OSMagics",
        "pwd": "OSMagics",
        "pycat": "OSMagics",
        "pylab": "PylabMagics",
        "qtconsole": "KernelMagics",
        "quickref": "BasicMagics",
        "recall": "HistoryMagics",
        "rehashx": "OSMagics",
        "reload_ext": "ExtensionMagics",
        "rep": "Other",
        "rerun": "HistoryMagics",
        "reset": "NamespaceMagics",
        "reset_selective": "NamespaceMagics",
        "rm": "Other",
        "rmdir": "Other",
        "run": "ExecutionMagics",
        "save": "CodeMagics",
        "sc": "OSMagics",
        "set_env": "OSMagics",
        "store": "StoreMagics",
        "sx": "OSMagics",
        "system": "OSMagics",
        "tb": "ExecutionMagics",
        "time": "ExecutionMagics",
        "timeit": "ExecutionMagics",
        "unalias": "OSMagics",
        "unload_ext": "ExtensionMagics",
        "who": "NamespaceMagics",
        "who_ls": "NamespaceMagics",
        "whos": "NamespaceMagics",
        "xdel": "NamespaceMagics",
        "xmode": "BasicMagics"
       }
      },
      "text/plain": [
       "Available line magics:\n",
       "%alias  %alias_magic  %autoawait  %autocall  %automagic  %autosave  %bookmark  %cat  %cd  %clear  %colors  %conda  %config  %connect_info  %cp  %debug  %dhist  %dirs  %doctest_mode  %ed  %edit  %env  %gui  %hist  %history  %killbgscripts  %ldir  %less  %lf  %lk  %ll  %load  %load_ext  %loadpy  %logoff  %logon  %logstart  %logstate  %logstop  %ls  %lsmagic  %lx  %macro  %magic  %man  %matplotlib  %mkdir  %more  %mv  %notebook  %page  %pastebin  %pdb  %pdef  %pdoc  %pfile  %pinfo  %pinfo2  %pip  %popd  %pprint  %precision  %prun  %psearch  %psource  %pushd  %pwd  %pycat  %pylab  %qtconsole  %quickref  %recall  %rehashx  %reload_ext  %rep  %rerun  %reset  %reset_selective  %rm  %rmdir  %run  %save  %sc  %set_env  %store  %sx  %system  %tb  %time  %timeit  %unalias  %unload_ext  %who  %who_ls  %whos  %xdel  %xmode\n",
       "\n",
       "Available cell magics:\n",
       "%%!  %%HTML  %%SVG  %%bash  %%capture  %%debug  %%file  %%html  %%javascript  %%js  %%latex  %%markdown  %%perl  %%prun  %%pypy  %%python  %%python2  %%python3  %%ruby  %%script  %%sh  %%svg  %%sx  %%system  %%time  %%timeit  %%writefile\n",
       "\n",
       "Automagic is ON, % prefix IS NOT needed for line magics."
      ]
     },
     "execution_count": 3,
     "metadata": {},
     "output_type": "execute_result"
    },
    {
     "name": "stderr",
     "output_type": "stream",
     "text": [
      "UsageError: Line magic function `%%script` not found.\n"
     ]
    }
   ],
   "source": [
    "# Use sweetviz to look at data\n",
    "%%script false  #   This will prevent this cell from running\n",
    "feature_config = sv.FeatureConfig(skip='Id')  #   No information in Id - not a feature\n",
    "my_report = sv.analyze(data, target_feat = 'SalePrice', pairwise_analysis=\"on\", feat_cfg = feature_config)  #   Have to specify the report to be generated: analyze(), compare(), compare_intra()\n",
    "my_report.show_html()  #   Have to show the report that was generated"
   ]
  },
  {
   "cell_type": "markdown",
   "metadata": {},
   "source": [
    "> **_Conclusions Drawn_**\n",
    ">\n",
    ">Making first set of models by only including categorical and numerical features\n",
    ">with associations >= 50.  This means, include:\n",
    "\n",
    "_Numerical_\n",
    "* GrLivArea\n",
    "* GarageArea\n",
    "* TotalBsmtSF\n",
    "* 1stFlrSF\n",
    "* TotRmsAbvGrd\n",
    "* YearBuilt\n",
    "* YearRemodAdd\n",
    "\n",
    "_Categorical_\n",
    "* OverallQual\n",
    "* Neighborhood\n",
    "* GarageCars\n",
    "* ExterQual\n",
    "* BsmtQual\n",
    "* KitchenQual\n",
    "* FullBath\n",
    "* GarageFinish\n",
    "* FireplaceQu\n",
    "* Foundation\n",
    "* GarageType"
   ]
  },
  {
   "cell_type": "code",
   "execution_count": 5,
   "metadata": {},
   "outputs": [
    {
     "name": "stdout",
     "output_type": "stream",
     "text": [
      "<class 'pandas.core.frame.DataFrame'>\n",
      "RangeIndex: 1460 entries, 0 to 1459\n",
      "Data columns (total 19 columns):\n",
      " #   Column        Non-Null Count  Dtype \n",
      "---  ------        --------------  ----- \n",
      " 0   OverallQual   1460 non-null   int64 \n",
      " 1   Neighborhood  1460 non-null   object\n",
      " 2   GarageCars    1460 non-null   int64 \n",
      " 3   ExterQual     1460 non-null   object\n",
      " 4   BsmtQual      1423 non-null   object\n",
      " 5   KitchenQual   1460 non-null   object\n",
      " 6   FullBath      1460 non-null   int64 \n",
      " 7   GarageFinish  1379 non-null   object\n",
      " 8   FireplaceQu   770 non-null    object\n",
      " 9   Foundation    1460 non-null   object\n",
      " 10  GarageType    1379 non-null   object\n",
      " 11  SalePrice     1460 non-null   int64 \n",
      " 12  GrLivArea     1460 non-null   int64 \n",
      " 13  GarageArea    1460 non-null   int64 \n",
      " 14  TotalBsmtSF   1460 non-null   int64 \n",
      " 15  1stFlrSF      1460 non-null   int64 \n",
      " 16  TotRmsAbvGrd  1460 non-null   int64 \n",
      " 17  YearBuilt     1460 non-null   int64 \n",
      " 18  YearRemodAdd  1460 non-null   int64 \n",
      "dtypes: int64(11), object(8)\n",
      "memory usage: 216.8+ KB\n"
     ]
    }
   ],
   "source": [
    "# Now drop all other data\n",
    "# Remember to keep target feature\n",
    "\n",
    "keep_numerical = [\n",
    "    \"SalePrice\",\n",
    "    \"GrLivArea\",\n",
    "    \"GarageArea\",\n",
    "    \"TotalBsmtSF\",\n",
    "    \"1stFlrSF\",\n",
    "    \"TotRmsAbvGrd\",\n",
    "    \"YearBuilt\",\n",
    "    \"YearRemodAdd\",\n",
    "]\n",
    "keep_categorical = [\n",
    "    \"OverallQual\",\n",
    "    \"Neighborhood\",\n",
    "    \"GarageCars\",\n",
    "    \"ExterQual\",\n",
    "    \"BsmtQual\",\n",
    "    \"KitchenQual\",\n",
    "    \"FullBath\",\n",
    "    \"GarageFinish\",\n",
    "    \"FireplaceQu\",\n",
    "    \"Foundation\",\n",
    "    \"GarageType\",\n",
    "]\n",
    "data_subset = data[keep_categorical + keep_numerical]\n",
    "data_subset.info()"
   ]
  },
  {
   "cell_type": "code",
   "execution_count": 6,
   "metadata": {},
   "outputs": [],
   "source": [
    "# Now do analysis again on subset just generated\n",
    "\n",
    "# my_report = sv.analyze(data_subset, target_feat = 'SalePrice', pairwise_analysis=\"on\")  #   Have to specify the report to be generated: analyze(), compare(), compare_intra()\n",
    "# my_report.show_html()  #   Have to show the report that was generated"
   ]
  },
  {
   "attachments": {
    "7ab08785-faac-45a4-a292-113e3329b8cc.png": {
     "image/png": "[encoded data removed]"
    }
   },
   "cell_type": "markdown",
   "metadata": {},
   "source": [
    "![image.png](attachment:7ab08785-faac-45a4-a292-113e3329b8cc.png)"
   ]
  },
  {
   "cell_type": "markdown",
   "metadata": {},
   "source": [
    "# Deal with missing data"
   ]
  },
  {
   "cell_type": "code",
   "execution_count": 7,
   "metadata": {},
   "outputs": [
    {
     "data": {
      "text/plain": [
       "<AxesSubplot:>"
      ]
     },
     "execution_count": 7,
     "metadata": {},
     "output_type": "execute_result"
    },
    {
     "data": {
      "image/png": "[encoded data removed]",
      "text/plain": [
       "<Figure size 432x288 with 1 Axes>"
      ]
     },
     "metadata": {
      "needs_background": "light"
     },
     "output_type": "display_data"
    }
   ],
   "source": [
    "#   Look at missing data\n",
    "\n",
    "missing = data_subset.isnull().sum()\n",
    "missing = missing[missing > 0]\n",
    "missing.sort_values(inplace=True)\n",
    "missing = missing.div(missing.sum())\n",
    "missing.plot.bar()  #   Height of bar shown number of rows with missing data"
   ]
  },
  {
   "cell_type": "code",
   "execution_count": 8,
   "metadata": {},
   "outputs": [
    {
     "name": "stdout",
     "output_type": "stream",
     "text": [
      "<class 'pandas.core.frame.DataFrame'>\n",
      "RangeIndex: 1460 entries, 0 to 1459\n",
      "Data columns (total 18 columns):\n",
      " #   Column        Non-Null Count  Dtype \n",
      "---  ------        --------------  ----- \n",
      " 0   OverallQual   1460 non-null   int64 \n",
      " 1   Neighborhood  1460 non-null   object\n",
      " 2   GarageCars    1460 non-null   int64 \n",
      " 3   ExterQual     1460 non-null   object\n",
      " 4   BsmtQual      1423 non-null   object\n",
      " 5   KitchenQual   1460 non-null   object\n",
      " 6   FullBath      1460 non-null   int64 \n",
      " 7   GarageFinish  1379 non-null   object\n",
      " 8   Foundation    1460 non-null   object\n",
      " 9   GarageType    1379 non-null   object\n",
      " 10  SalePrice     1460 non-null   int64 \n",
      " 11  GrLivArea     1460 non-null   int64 \n",
      " 12  GarageArea    1460 non-null   int64 \n",
      " 13  TotalBsmtSF   1460 non-null   int64 \n",
      " 14  1stFlrSF      1460 non-null   int64 \n",
      " 15  TotRmsAbvGrd  1460 non-null   int64 \n",
      " 16  YearBuilt     1460 non-null   int64 \n",
      " 17  YearRemodAdd  1460 non-null   int64 \n",
      "dtypes: int64(11), object(7)\n",
      "memory usage: 205.4+ KB\n"
     ]
    },
    {
     "name": "stderr",
     "output_type": "stream",
     "text": [
      "/Users/swbza/opt/anaconda3/lib/python3.8/site-packages/pandas/core/frame.py:4162: SettingWithCopyWarning: \n",
      "A value is trying to be set on a copy of a slice from a DataFrame\n",
      "\n",
      "See the caveats in the documentation: https://pandas.pydata.org/pandas-docs/stable/user_guide/indexing.html#returning-a-view-versus-a-copy\n",
      "  return super().drop(\n"
     ]
    }
   ],
   "source": [
    "# FireplaceQu has too much missing data, drop it\n",
    "\n",
    "data_subset.drop(columns=\"FireplaceQu\", inplace=True)\n",
    "data_subset.info()"
   ]
  },
  {
   "cell_type": "markdown",
   "metadata": {},
   "source": [
    "# Remove outliers\n",
    ">\n",
    ">**_To be done_**\n",
    ">\n",
    ">"
   ]
  },
  {
   "cell_type": "markdown",
   "metadata": {},
   "source": [
    "# Convert data_subset to format as per Udemy templates\n",
    "> 1 - Put SalePrice in last column\n",
    ">\n",
    "> 2 - Split into X and y"
   ]
  },
  {
   "cell_type": "code",
   "execution_count": 9,
   "metadata": {},
   "outputs": [
    {
     "name": "stdout",
     "output_type": "stream",
     "text": [
      "<class 'pandas.core.frame.DataFrame'>\n",
      "RangeIndex: 1460 entries, 0 to 1459\n",
      "Data columns (total 18 columns):\n",
      " #   Column        Non-Null Count  Dtype \n",
      "---  ------        --------------  ----- \n",
      " 0   OverallQual   1460 non-null   int64 \n",
      " 1   Neighborhood  1460 non-null   object\n",
      " 2   GarageCars    1460 non-null   int64 \n",
      " 3   ExterQual     1460 non-null   object\n",
      " 4   BsmtQual      1423 non-null   object\n",
      " 5   KitchenQual   1460 non-null   object\n",
      " 6   FullBath      1460 non-null   int64 \n",
      " 7   GarageFinish  1379 non-null   object\n",
      " 8   Foundation    1460 non-null   object\n",
      " 9   GarageType    1379 non-null   object\n",
      " 10  GrLivArea     1460 non-null   int64 \n",
      " 11  GarageArea    1460 non-null   int64 \n",
      " 12  TotalBsmtSF   1460 non-null   int64 \n",
      " 13  1stFlrSF      1460 non-null   int64 \n",
      " 14  TotRmsAbvGrd  1460 non-null   int64 \n",
      " 15  YearBuilt     1460 non-null   int64 \n",
      " 16  YearRemodAdd  1460 non-null   int64 \n",
      " 17  SalePrice     1460 non-null   int64 \n",
      "dtypes: int64(11), object(7)\n",
      "memory usage: 205.4+ KB\n"
     ]
    }
   ],
   "source": [
    "# Move SalePrice to last column\n",
    "\n",
    "data_subset.insert(\n",
    "    len(data_subset.columns) - 1, \"SalePrice\", data_subset.pop(\"SalePrice\")\n",
    ")\n",
    "data_subset.info()"
   ]
  },
  {
   "cell_type": "code",
   "execution_count": 10,
   "metadata": {},
   "outputs": [
    {
     "data": {
      "application/vnd.jupyter.widget-view+json": {
       "model_id": "8d0d55e563a6440589baad5d186cd1a5",
       "version_major": 2,
       "version_minor": 0
      },
      "text/plain": [
       "QgridWidget(grid_options={'fullWidthRows': True, 'syncColumnCellResize': True, 'forceFitColumns': False, 'defa…"
      ]
     },
     "metadata": {},
     "output_type": "display_data"
    }
   ],
   "source": [
    "qgrid_widget = qgrid.show_grid(\n",
    "    pd.DataFrame(data_subset),\n",
    "    show_toolbar=True,\n",
    "    grid_options={\n",
    "        \"forceFitColumns\": False\n",
    "    },  #   Many columns in dataframe become unusable for filter without this\n",
    ")\n",
    "qgrid_widget"
   ]
  },
  {
   "cell_type": "code",
   "execution_count": 11,
   "metadata": {},
   "outputs": [
    {
     "name": "stdout",
     "output_type": "stream",
     "text": [
      "<class 'pandas.core.frame.DataFrame'>\n",
      "RangeIndex: 1460 entries, 0 to 1459\n",
      "Data columns (total 63 columns):\n",
      " #   Column                Non-Null Count  Dtype\n",
      "---  ------                --------------  -----\n",
      " 0   OverallQual           1460 non-null   int64\n",
      " 1   GarageCars            1460 non-null   int64\n",
      " 2   FullBath              1460 non-null   int64\n",
      " 3   GrLivArea             1460 non-null   int64\n",
      " 4   GarageArea            1460 non-null   int64\n",
      " 5   TotalBsmtSF           1460 non-null   int64\n",
      " 6   1stFlrSF              1460 non-null   int64\n",
      " 7   TotRmsAbvGrd          1460 non-null   int64\n",
      " 8   YearBuilt             1460 non-null   int64\n",
      " 9   YearRemodAdd          1460 non-null   int64\n",
      " 10  SalePrice             1460 non-null   int64\n",
      " 11  Neighborhood_Blmngtn  1460 non-null   uint8\n",
      " 12  Neighborhood_Blueste  1460 non-null   uint8\n",
      " 13  Neighborhood_BrDale   1460 non-null   uint8\n",
      " 14  Neighborhood_BrkSide  1460 non-null   uint8\n",
      " 15  Neighborhood_ClearCr  1460 non-null   uint8\n",
      " 16  Neighborhood_CollgCr  1460 non-null   uint8\n",
      " 17  Neighborhood_Crawfor  1460 non-null   uint8\n",
      " 18  Neighborhood_Edwards  1460 non-null   uint8\n",
      " 19  Neighborhood_Gilbert  1460 non-null   uint8\n",
      " 20  Neighborhood_IDOTRR   1460 non-null   uint8\n",
      " 21  Neighborhood_MeadowV  1460 non-null   uint8\n",
      " 22  Neighborhood_Mitchel  1460 non-null   uint8\n",
      " 23  Neighborhood_NAmes    1460 non-null   uint8\n",
      " 24  Neighborhood_NPkVill  1460 non-null   uint8\n",
      " 25  Neighborhood_NWAmes   1460 non-null   uint8\n",
      " 26  Neighborhood_NoRidge  1460 non-null   uint8\n",
      " 27  Neighborhood_NridgHt  1460 non-null   uint8\n",
      " 28  Neighborhood_OldTown  1460 non-null   uint8\n",
      " 29  Neighborhood_SWISU    1460 non-null   uint8\n",
      " 30  Neighborhood_Sawyer   1460 non-null   uint8\n",
      " 31  Neighborhood_SawyerW  1460 non-null   uint8\n",
      " 32  Neighborhood_Somerst  1460 non-null   uint8\n",
      " 33  Neighborhood_StoneBr  1460 non-null   uint8\n",
      " 34  Neighborhood_Timber   1460 non-null   uint8\n",
      " 35  Neighborhood_Veenker  1460 non-null   uint8\n",
      " 36  ExterQual_Ex          1460 non-null   uint8\n",
      " 37  ExterQual_Fa          1460 non-null   uint8\n",
      " 38  ExterQual_Gd          1460 non-null   uint8\n",
      " 39  ExterQual_TA          1460 non-null   uint8\n",
      " 40  BsmtQual_Ex           1460 non-null   uint8\n",
      " 41  BsmtQual_Fa           1460 non-null   uint8\n",
      " 42  BsmtQual_Gd           1460 non-null   uint8\n",
      " 43  BsmtQual_TA           1460 non-null   uint8\n",
      " 44  KitchenQual_Ex        1460 non-null   uint8\n",
      " 45  KitchenQual_Fa        1460 non-null   uint8\n",
      " 46  KitchenQual_Gd        1460 non-null   uint8\n",
      " 47  KitchenQual_TA        1460 non-null   uint8\n",
      " 48  GarageFinish_Fin      1460 non-null   uint8\n",
      " 49  GarageFinish_RFn      1460 non-null   uint8\n",
      " 50  GarageFinish_Unf      1460 non-null   uint8\n",
      " 51  Foundation_BrkTil     1460 non-null   uint8\n",
      " 52  Foundation_CBlock     1460 non-null   uint8\n",
      " 53  Foundation_PConc      1460 non-null   uint8\n",
      " 54  Foundation_Slab       1460 non-null   uint8\n",
      " 55  Foundation_Stone      1460 non-null   uint8\n",
      " 56  Foundation_Wood       1460 non-null   uint8\n",
      " 57  GarageType_2Types     1460 non-null   uint8\n",
      " 58  GarageType_Attchd     1460 non-null   uint8\n",
      " 59  GarageType_Basment    1460 non-null   uint8\n",
      " 60  GarageType_BuiltIn    1460 non-null   uint8\n",
      " 61  GarageType_CarPort    1460 non-null   uint8\n",
      " 62  GarageType_Detchd     1460 non-null   uint8\n",
      "dtypes: int64(11), uint8(52)\n",
      "memory usage: 199.7 KB\n"
     ]
    }
   ],
   "source": [
    "#  Encode categorical features\n",
    "\n",
    "data_subset_enc = pd.get_dummies(data_subset)\n",
    "# qgrid_widget = qgrid.show_grid(pd.DataFrame(data_subset_enc),\n",
    "#                                show_toolbar=True,\n",
    "#                               grid_options={'forceFitColumns': False}  #   Many columns in dataframe become unusable for filter without this\n",
    "#                               )\n",
    "# qgrid_widget\n",
    "\n",
    "data_subset_enc.info()"
   ]
  },
  {
   "cell_type": "code",
   "execution_count": 12,
   "metadata": {},
   "outputs": [
    {
     "name": "stdout",
     "output_type": "stream",
     "text": [
      "<class 'pandas.core.frame.DataFrame'>\n",
      "RangeIndex: 1460 entries, 0 to 1459\n",
      "Data columns (total 63 columns):\n",
      " #   Column                Non-Null Count  Dtype\n",
      "---  ------                --------------  -----\n",
      " 0   OverallQual           1460 non-null   int64\n",
      " 1   GarageCars            1460 non-null   int64\n",
      " 2   FullBath              1460 non-null   int64\n",
      " 3   GrLivArea             1460 non-null   int64\n",
      " 4   GarageArea            1460 non-null   int64\n",
      " 5   TotalBsmtSF           1460 non-null   int64\n",
      " 6   1stFlrSF              1460 non-null   int64\n",
      " 7   TotRmsAbvGrd          1460 non-null   int64\n",
      " 8   YearBuilt             1460 non-null   int64\n",
      " 9   YearRemodAdd          1460 non-null   int64\n",
      " 10  Neighborhood_Blmngtn  1460 non-null   uint8\n",
      " 11  Neighborhood_Blueste  1460 non-null   uint8\n",
      " 12  Neighborhood_BrDale   1460 non-null   uint8\n",
      " 13  Neighborhood_BrkSide  1460 non-null   uint8\n",
      " 14  Neighborhood_ClearCr  1460 non-null   uint8\n",
      " 15  Neighborhood_CollgCr  1460 non-null   uint8\n",
      " 16  Neighborhood_Crawfor  1460 non-null   uint8\n",
      " 17  Neighborhood_Edwards  1460 non-null   uint8\n",
      " 18  Neighborhood_Gilbert  1460 non-null   uint8\n",
      " 19  Neighborhood_IDOTRR   1460 non-null   uint8\n",
      " 20  Neighborhood_MeadowV  1460 non-null   uint8\n",
      " 21  Neighborhood_Mitchel  1460 non-null   uint8\n",
      " 22  Neighborhood_NAmes    1460 non-null   uint8\n",
      " 23  Neighborhood_NPkVill  1460 non-null   uint8\n",
      " 24  Neighborhood_NWAmes   1460 non-null   uint8\n",
      " 25  Neighborhood_NoRidge  1460 non-null   uint8\n",
      " 26  Neighborhood_NridgHt  1460 non-null   uint8\n",
      " 27  Neighborhood_OldTown  1460 non-null   uint8\n",
      " 28  Neighborhood_SWISU    1460 non-null   uint8\n",
      " 29  Neighborhood_Sawyer   1460 non-null   uint8\n",
      " 30  Neighborhood_SawyerW  1460 non-null   uint8\n",
      " 31  Neighborhood_Somerst  1460 non-null   uint8\n",
      " 32  Neighborhood_StoneBr  1460 non-null   uint8\n",
      " 33  Neighborhood_Timber   1460 non-null   uint8\n",
      " 34  Neighborhood_Veenker  1460 non-null   uint8\n",
      " 35  ExterQual_Ex          1460 non-null   uint8\n",
      " 36  ExterQual_Fa          1460 non-null   uint8\n",
      " 37  ExterQual_Gd          1460 non-null   uint8\n",
      " 38  ExterQual_TA          1460 non-null   uint8\n",
      " 39  BsmtQual_Ex           1460 non-null   uint8\n",
      " 40  BsmtQual_Fa           1460 non-null   uint8\n",
      " 41  BsmtQual_Gd           1460 non-null   uint8\n",
      " 42  BsmtQual_TA           1460 non-null   uint8\n",
      " 43  KitchenQual_Ex        1460 non-null   uint8\n",
      " 44  KitchenQual_Fa        1460 non-null   uint8\n",
      " 45  KitchenQual_Gd        1460 non-null   uint8\n",
      " 46  KitchenQual_TA        1460 non-null   uint8\n",
      " 47  GarageFinish_Fin      1460 non-null   uint8\n",
      " 48  GarageFinish_RFn      1460 non-null   uint8\n",
      " 49  GarageFinish_Unf      1460 non-null   uint8\n",
      " 50  Foundation_BrkTil     1460 non-null   uint8\n",
      " 51  Foundation_CBlock     1460 non-null   uint8\n",
      " 52  Foundation_PConc      1460 non-null   uint8\n",
      " 53  Foundation_Slab       1460 non-null   uint8\n",
      " 54  Foundation_Stone      1460 non-null   uint8\n",
      " 55  Foundation_Wood       1460 non-null   uint8\n",
      " 56  GarageType_2Types     1460 non-null   uint8\n",
      " 57  GarageType_Attchd     1460 non-null   uint8\n",
      " 58  GarageType_Basment    1460 non-null   uint8\n",
      " 59  GarageType_BuiltIn    1460 non-null   uint8\n",
      " 60  GarageType_CarPort    1460 non-null   uint8\n",
      " 61  GarageType_Detchd     1460 non-null   uint8\n",
      " 62  SalePrice             1460 non-null   int64\n",
      "dtypes: int64(11), uint8(52)\n",
      "memory usage: 199.7 KB\n"
     ]
    }
   ],
   "source": [
    "#  Move SalePrice to the end again\n",
    "\n",
    "data_subset_enc.insert(\n",
    "    len(data_subset_enc.columns) - 1, \"SalePrice\", data_subset_enc.pop(\"SalePrice\")\n",
    ")\n",
    "data_subset_enc.info()"
   ]
  },
  {
   "cell_type": "code",
   "execution_count": 13,
   "metadata": {},
   "outputs": [],
   "source": [
    "# Now we're in the format of the templates\n",
    "\n",
    "X = data_subset_enc.iloc[:, 0:-1].values\n",
    "y = data_subset_enc.iloc[:, -1].values"
   ]
  },
  {
   "cell_type": "code",
   "execution_count": 14,
   "metadata": {},
   "outputs": [],
   "source": [
    "# Now only have numeric data, so impute missing values\n",
    "\n",
    "from sklearn.impute import SimpleImputer\n",
    "\n",
    "imputer = SimpleImputer(missing_values=np.nan, strategy=\"mean\")\n",
    "imputer.fit(X)\n",
    "X = imputer.transform(X)"
   ]
  },
  {
   "cell_type": "code",
   "execution_count": 15,
   "metadata": {},
   "outputs": [],
   "source": [
    "# qgrid_widget = qgrid.show_grid(pd.DataFrame(X),\n",
    "#                                show_toolbar=True,\n",
    "#                               grid_options={'forceFitColumns': False}  #   Many columns in dataframe become unusable for filter without this\n",
    "#                               )\n",
    "# qgrid_widget"
   ]
  },
  {
   "cell_type": "markdown",
   "metadata": {},
   "source": [
    ">\n",
    ">\n",
    "> No need to encode y = already a number"
   ]
  },
  {
   "cell_type": "code",
   "execution_count": 16,
   "metadata": {},
   "outputs": [],
   "source": [
    "########  Let every model split for itself\n",
    "\n",
    "# from sklearn.model_selection import train_test_split\n",
    "# X_train, X_test, y_train, y_test = train_test_split(X, y, test_size = 0.2, random_state = 1)"
   ]
  },
  {
   "cell_type": "code",
   "execution_count": 17,
   "metadata": {},
   "outputs": [],
   "source": [
    "# qgrid_widget = qgrid.show_grid(pd.DataFrame(X),\n",
    "#                                show_toolbar=True,\n",
    "#                               grid_options={'forceFitColumns': False}  #   Many columns in dataframe become unusable for filter without this\n",
    "#                               )\n",
    "# qgrid_widget"
   ]
  },
  {
   "cell_type": "code",
   "execution_count": 18,
   "metadata": {},
   "outputs": [],
   "source": [
    "######  Let every model scale if it needs to\n",
    "\n",
    "\n",
    "# from sklearn.preprocessing import StandardScaler\n",
    "# sc = StandardScaler()\n",
    "# X_train[:, 3:] = sc.fit_transform(X_train[:, 3:])\n",
    "# X_test[:, 3:] = sc.transform(X_test[:, 3:])"
   ]
  },
  {
   "cell_type": "code",
   "execution_count": 19,
   "metadata": {},
   "outputs": [],
   "source": [
    "# print(X_train)"
   ]
  },
  {
   "cell_type": "code",
   "execution_count": 20,
   "metadata": {},
   "outputs": [],
   "source": [
    "# print(y_train)"
   ]
  },
  {
   "cell_type": "markdown",
   "metadata": {},
   "source": [
    "# Now export the cleaned data"
   ]
  },
  {
   "cell_type": "code",
   "execution_count": 22,
   "metadata": {},
   "outputs": [
    {
     "name": "stdout",
     "output_type": "stream",
     "text": [
      "<class 'pandas.core.frame.DataFrame'>\n",
      "RangeIndex: 1460 entries, 0 to 1459\n",
      "Data columns (total 63 columns):\n",
      " #   Column  Non-Null Count  Dtype  \n",
      "---  ------  --------------  -----  \n",
      " 0   0       1460 non-null   float64\n",
      " 1   1       1460 non-null   float64\n",
      " 2   2       1460 non-null   float64\n",
      " 3   3       1460 non-null   float64\n",
      " 4   4       1460 non-null   float64\n",
      " 5   5       1460 non-null   float64\n",
      " 6   6       1460 non-null   float64\n",
      " 7   7       1460 non-null   float64\n",
      " 8   8       1460 non-null   float64\n",
      " 9   9       1460 non-null   float64\n",
      " 10  10      1460 non-null   float64\n",
      " 11  11      1460 non-null   float64\n",
      " 12  12      1460 non-null   float64\n",
      " 13  13      1460 non-null   float64\n",
      " 14  14      1460 non-null   float64\n",
      " 15  15      1460 non-null   float64\n",
      " 16  16      1460 non-null   float64\n",
      " 17  17      1460 non-null   float64\n",
      " 18  18      1460 non-null   float64\n",
      " 19  19      1460 non-null   float64\n",
      " 20  20      1460 non-null   float64\n",
      " 21  21      1460 non-null   float64\n",
      " 22  22      1460 non-null   float64\n",
      " 23  23      1460 non-null   float64\n",
      " 24  24      1460 non-null   float64\n",
      " 25  25      1460 non-null   float64\n",
      " 26  26      1460 non-null   float64\n",
      " 27  27      1460 non-null   float64\n",
      " 28  28      1460 non-null   float64\n",
      " 29  29      1460 non-null   float64\n",
      " 30  30      1460 non-null   float64\n",
      " 31  31      1460 non-null   float64\n",
      " 32  32      1460 non-null   float64\n",
      " 33  33      1460 non-null   float64\n",
      " 34  34      1460 non-null   float64\n",
      " 35  35      1460 non-null   float64\n",
      " 36  36      1460 non-null   float64\n",
      " 37  37      1460 non-null   float64\n",
      " 38  38      1460 non-null   float64\n",
      " 39  39      1460 non-null   float64\n",
      " 40  40      1460 non-null   float64\n",
      " 41  41      1460 non-null   float64\n",
      " 42  42      1460 non-null   float64\n",
      " 43  43      1460 non-null   float64\n",
      " 44  44      1460 non-null   float64\n",
      " 45  45      1460 non-null   float64\n",
      " 46  46      1460 non-null   float64\n",
      " 47  47      1460 non-null   float64\n",
      " 48  48      1460 non-null   float64\n",
      " 49  49      1460 non-null   float64\n",
      " 50  50      1460 non-null   float64\n",
      " 51  51      1460 non-null   float64\n",
      " 52  52      1460 non-null   float64\n",
      " 53  53      1460 non-null   float64\n",
      " 54  54      1460 non-null   float64\n",
      " 55  55      1460 non-null   float64\n",
      " 56  56      1460 non-null   float64\n",
      " 57  57      1460 non-null   float64\n",
      " 58  58      1460 non-null   float64\n",
      " 59  59      1460 non-null   float64\n",
      " 60  60      1460 non-null   float64\n",
      " 61  61      1460 non-null   float64\n",
      " 62  62      1460 non-null   float64\n",
      "dtypes: float64(63)\n",
      "memory usage: 718.7 KB\n"
     ]
    }
   ],
   "source": [
    "#  Write to file\n",
    "#  Remember the column headings make no sense any more\n",
    "#  The file is for blind inputting to the ML model templates\n",
    "########  TO DO - put column headings back !!!!!!!!!!!!!!!!!!!!!!!\n",
    "in_arr1 = np.transpose(X)\n",
    "in_arr2 = y\n",
    "out_arr = np.vstack((in_arr1, in_arr2))  # Stacking the two arrays vertically\n",
    "out_arr = np.transpose(out_arr)  #\n",
    "out_arr = pd.DataFrame(out_arr)\n",
    "out_arr.to_csv(\"cleaned_data.csv\", index=False)\n",
    "out_arr.info()"
   ]
  },
  {
   "cell_type": "code",
   "execution_count": null,
   "metadata": {},
   "outputs": [],
   "source": [
    "# # input array\n",
    "# in_arr1 = np.transpose(X)\n",
    "# print (\"1st Input array : \\n\", in_arr1)\n",
    "\n",
    "# in_arr2 = y\n",
    "# print (\"2nd Input array : \\n\", in_arr2)\n",
    "\n",
    "# # Stacking the two arrays vertically\n",
    "# out_arr = np.vstack((in_arr1, in_arr2))\n",
    "# out_arr = np.transpose(out_arr)\n",
    "# print (\"Output stacked array :\\n \", out_arr)\n",
    "# out_arr.shape\n",
    "\n",
    "# qgrid_widget = qgrid.show_grid(pd.DataFrame(out_arr),\n",
    "#                                show_toolbar=True,\n",
    "#                               grid_options={'forceFitColumns': False}  #   Many columns in dataframe become unusable for filter without this\n",
    "#                               )\n",
    "# qgrid_widget"
   ]
  },
  {
   "cell_type": "markdown",
   "metadata": {},
   "source": [
    "# Now do everything to the submission input set"
   ]
  },
  {
   "cell_type": "code",
   "execution_count": null,
   "metadata": {},
   "outputs": [],
   "source": [
    "# Import data\n",
    "data = pd.read_csv(\"hp_test.csv\")\n",
    "\n",
    "# Keep only the features as decided through the EDA\n",
    "keep_numerical = [\n",
    "    \"SalePrice\",\n",
    "    \"GrLivArea\",\n",
    "    \"GarageArea\",\n",
    "    \"TotalBsmtSF\",\n",
    "    \"1stFlrSF\",\n",
    "    \"TotRmsAbvGrd\",\n",
    "    \"YearBuilt\",\n",
    "    \"YearRemodAdd\",\n",
    "]\n",
    "keep_categorical = [\n",
    "    \"OverallQual\",\n",
    "    \"Neighborhood\",\n",
    "    \"GarageCars\",\n",
    "    \"ExterQual\",\n",
    "    \"BsmtQual\",\n",
    "    \"KitchenQual\",\n",
    "    \"FullBath\",\n",
    "    \"GarageFinish\",\n",
    "    \"FireplaceQu\",\n",
    "    \"Foundation\",\n",
    "    \"GarageType\",\n",
    "]\n",
    "data_subset = data[keep_categorical + keep_numerical]\n",
    "\n",
    "# Deal with missing data\n",
    "data_subset.drop(columns=\"FireplaceQu\", inplace=True)\n",
    "\n",
    "# Move SalePrice to last column\n",
    "data_subset.insert(\n",
    "    len(data_subset.columns) - 1, \"SalePrice\", data_subset.pop(\"SalePrice\")\n",
    ")\n",
    "\n",
    "# Encode categorical features\n",
    "data_subset_enc = pd.get_dummies(data_subset)\n",
    "\n",
    "#  Now prepare for competition submission\n",
    "#####  Confirm why first column is dropped ##########\n",
    "X_competition = data_subset_enc.iloc[:, 1:-1].values\n",
    "\n",
    "# Now only have numeric data, so impute missing values\n",
    "\n",
    "from sklearn.impute import SimpleImputer\n",
    "\n",
    "imputer = SimpleImputer(missing_values=np.nan, strategy=\"mean\")\n",
    "imputer.fit(X)\n",
    "X = imputer.transform(X)\n",
    "\n",
    "# Make prediction on competition test set using trained model\n",
    "y_competition = pd.DataFrame(classifier.predict(X_competition))\n",
    "\n",
    "# Concatenate prediction and passenger ID columns\n",
    "submission = pd.DataFrame(\n",
    "    pd.concat([dataset.iloc[:, 0], y_competition.iloc[:, :]], axis=1)\n",
    ")\n",
    "\n",
    "# Fix column headings\n",
    "submission.columns = [\"PassengerID\", \"Survived\"]\n",
    "\n",
    "# Write to file\n",
    "submission.to_csv(\"hp_svm.csv\", index=False)"
   ]
  }
 ],
 "metadata": {
  "kernelspec": {
   "display_name": "Python 3",
   "language": "python",
   "name": "python3"
  },
  "language_info": {
   "codemirror_mode": {
    "name": "ipython",
    "version": 3
   },
   "file_extension": ".py",
   "mimetype": "text/x-python",
   "name": "python",
   "nbconvert_exporter": "python",
   "pygments_lexer": "ipython3",
   "version": "3.8.3"
  }
 },
 "nbformat": 4,
 "nbformat_minor": 4
}
